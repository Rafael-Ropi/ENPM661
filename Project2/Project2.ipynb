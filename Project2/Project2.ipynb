{
 "cells": [
  {
   "cell_type": "code",
   "execution_count": 69,
   "metadata": {},
   "outputs": [],
   "source": [
    "import math"
   ]
  },
  {
   "cell_type": "code",
   "execution_count": 15,
   "metadata": {},
   "outputs": [
    {
     "name": "stdout",
     "output_type": "stream",
     "text": [
      "1\n"
     ]
    }
   ],
   "source": [
    "print(obstacles[-2][-2])"
   ]
  },
  {
   "cell_type": "code",
   "execution_count": 31,
   "metadata": {},
   "outputs": [
    {
     "name": "stdout",
     "output_type": "stream",
     "text": [
      "[0, 0, 1, 0, 1, 0, 0, 0]\n"
     ]
    }
   ],
   "source": [
    "test = checkActions(1,1, obstacles)\n",
    "print(test)\n",
    "\n",
    "if test[1]:\n",
    "    print('yes')"
   ]
  },
  {
   "cell_type": "code",
   "execution_count": 40,
   "metadata": {},
   "outputs": [
    {
     "name": "stdout",
     "output_type": "stream",
     "text": [
      "[1, 3, 5, 6, 7, 10]\n"
     ]
    }
   ],
   "source": [
    "test = [1, 5, 6, 3, 7, 10];\n",
    "test.sort()\n",
    "print(test)"
   ]
  },
  {
   "cell_type": "code",
   "execution_count": 140,
   "metadata": {},
   "outputs": [
    {
     "name": "stdout",
     "output_type": "stream",
     "text": [
      "[[[1, 1], 0, [0, 0]]]\n"
     ]
    }
   ],
   "source": [
    "# Node Structure: [[x, y], cost, [parentX, parentY]]\n",
    "startNode = [[1, 1], 0, [0,0]]\n",
    "\n",
    "nodes = []\n",
    "nodes.append(startNode)\n",
    "\n",
    "print(nodes)"
   ]
  },
  {
   "cell_type": "code",
   "execution_count": 26,
   "metadata": {},
   "outputs": [
    {
     "name": "stdout",
     "output_type": "stream",
     "text": [
      "[1, 1, 1, 1, 1, 1, 1]\n",
      "[1, 0, 0, 0, 0, 0, 1]\n",
      "[1, 0, 1, 1, 1, 0, 1]\n",
      "[1, 0, 1, 1, 1, 0, 1]\n",
      "[1, 0, 1, 1, 1, 0, 1]\n",
      "[1, 0, 0, 0, 0, 0, 1]\n",
      "[1, 1, 1, 1, 1, 1, 1]\n"
     ]
    }
   ],
   "source": [
    "arenaHeight = 5;\n",
    "arenaWidth = 5;\n",
    "\n",
    "obstacles = [[1, 1, 1, 1, 1, 1, 1], \n",
    "             [1, 0, 0, 0, 0, 0, 1], \n",
    "             [1, 0, 1, 1, 1, 0, 1], \n",
    "             [1, 0, 1, 1, 1, 0, 1], \n",
    "             [1, 0, 1, 1, 1, 0, 1], \n",
    "             [1, 0, 0, 0, 0, 0, 1], \n",
    "             [1, 1, 1, 1, 1, 1, 1]]\n",
    "\n",
    "for i in range(len(obstacles)):\n",
    "    print(obstacles[i])"
   ]
  },
  {
   "cell_type": "code",
   "execution_count": 561,
   "metadata": {},
   "outputs": [],
   "source": [
    "def checkActions(x, y, obstacles):\n",
    "#     u, ur, r, dr, d, dl, l, ul\n",
    "    available = []\n",
    "#     Up\n",
    "    if obstacles[x][y-1] == 0:\n",
    "        available.append([0, -1])\n",
    "#     Up,Right\n",
    "    if obstacles[x+1][y-1] == 0:\n",
    "        available.append([1, -1])\n",
    "#     Right\n",
    "    if obstacles[x+1][y] == 0:\n",
    "        available.append([1, 0])\n",
    "#     Down, Right\n",
    "    if obstacles[x+1][y+1] == 0:\n",
    "        available.append([1, 1])\n",
    "#     Down\n",
    "    if obstacles[x][y+1] == 0:\n",
    "        available.append([0, 1])\n",
    "#     Down, Left\n",
    "    if obstacles[x-1][y+1] == 0:\n",
    "        available.append([-1, 1])\n",
    "#     Left\n",
    "    if obstacles[x-1][y] == 0:\n",
    "        available.append([-1, 0])\n",
    "#     Up, Left\n",
    "    if obstacles[x-1][y-1] == 0:\n",
    "        available.append([-1, -1])\n",
    "        \n",
    "    return available"
   ]
  },
  {
   "cell_type": "code",
   "execution_count": 560,
   "metadata": {},
   "outputs": [],
   "source": [
    "def checkVisited(xy, Vn):\n",
    "    visited = 0\n",
    "    for i in range(len(Vn)):\n",
    "#         print(Vn[i], xy[1], 'i: ', i)\n",
    "        if Vn[i][0][0] == xy[0]:\n",
    "#             print(Vn[i][0][1], xy[1])\n",
    "            if Vn[i][0][1] == xy[1]:\n",
    "                visited = 1\n",
    "    return visited"
   ]
  },
  {
   "cell_type": "code",
   "execution_count": 559,
   "metadata": {},
   "outputs": [],
   "source": [
    "def backTrace(endNode, startNode, Vn):\n",
    "    nodeToTest = endNode\n",
    "    nodeList = []\n",
    "    nodeList.append(endNode)\n",
    "    while nodeToTest[0] != startNode[0]:\n",
    "        parent = nodeToTest[2]\n",
    "        for i in range(len(Vn)):\n",
    "#             print('VnI: ', Vn[i][2], parent)\n",
    "#             print('nodeToTest', nodeToTest)\n",
    "            if Vn[i][0] == parent:\n",
    "#                 print('hello', Vn[i])\n",
    "                nodeList.append(Vn[i])\n",
    "                nodeToTest = Vn[i]\n",
    "        \n",
    "#     nodeList.append(startNode)\n",
    "    \n",
    "    return nodeList\n",
    "        "
   ]
  },
  {
   "cell_type": "code",
   "execution_count": 271,
   "metadata": {},
   "outputs": [
    {
     "name": "stdout",
     "output_type": "stream",
     "text": [
      "18\n"
     ]
    }
   ],
   "source": [
    "hello = [[1, 1], 1.0, [2, 1]]\n",
    "hello[0] != startNode[0]\n",
    "\n",
    "print(len(Vn))"
   ]
  },
  {
   "cell_type": "code",
   "execution_count": 565,
   "metadata": {},
   "outputs": [],
   "source": [
    "def dijkstra(startNode, goalNode, obstacles):\n",
    "    nodes = []\n",
    "    nextNodes = []\n",
    "    Q = []\n",
    "    Vn = []\n",
    "    \n",
    "    Q.append(startNode)\n",
    "    Vn.append(startNode)\n",
    "    \n",
    "    newLowerCost = 1;\n",
    "    run = 0\n",
    "#     for run in range(3):\n",
    "    while len(Q) > 0:\n",
    "\n",
    "        if newLowerCost:\n",
    "            sortList(Q, 1)\n",
    "#         print('\\n\\nQ: ', Q)\n",
    "        x = Q.pop(0)\n",
    "#         print('x: ', x, '\\n Run: ', run, '\\n\\n' )\n",
    "#         if x[0] == goalNode[0]:\n",
    "#             print('Sucess!')\n",
    "#             return [x, Vn]\n",
    "        \n",
    "#         print(x)\n",
    "        u = checkActions(x[0][0], x[0][1], obstacles)\n",
    "#         print('u', u, ' run ', run)\n",
    "        \n",
    "        newLowerCost = 0\n",
    "        for i in range(len(u)):\n",
    "#             print('i ', i, 'Vn ', Vn, 'ui', u[i])\n",
    "#             print('Old Cost ', x[1])\n",
    "            newX = x[0][0] + u[i][0]\n",
    "            newY = x[0][1] + u[i][1]\n",
    "            newCost = x[1]+math.sqrt(abs(u[i][0])+abs(u[i][1]))\n",
    "            \n",
    "#             print(newX, newY, newCost)\n",
    "            \n",
    "            if [newX, newY] == goalNode[0]:\n",
    "                lastNode = createNode([newX, newY], newCost,  x[0], Vn)\n",
    "                nextNodes.append(lastNode)\n",
    "                Vn.extend(nextNodes)\n",
    "                return [lastNode, Vn]\n",
    "            else:\n",
    "#                 print('Vector newXY, ', [newX, newY], 'newCost: ', newCost, 'x: ', x[0], Vn)\n",
    "                newNode = createNode([newX, newY], newCost,  x[0], Vn)\n",
    "#                 print('newNode ', newNode)\n",
    "                if newNode:\n",
    "                    nextNodes.append(newNode)\n",
    "                    \n",
    "                \n",
    "                Vn.extend(nextNodes)\n",
    "                Q.extend(nextNodes)\n",
    "                nextNodes = [];\n",
    "            \n",
    "\n",
    "        \n",
    "        if len(Q) > 0:\n",
    "#                 print('test', Q[0][1], 'x1', x[1])\n",
    "            if x[1] < Q[0][1]:\n",
    "                newLowerCost = 1;\n",
    "        \n",
    "        \n",
    "        \n",
    "        run = run+1\n",
    "        \n",
    "        \n",
    "#     print(Q)          \n",
    "#     print('vn: ', Vn[0][0])\n",
    "    \n",
    "    \n"
   ]
  },
  {
   "cell_type": "code",
   "execution_count": 563,
   "metadata": {},
   "outputs": [
    {
     "name": "stdout",
     "output_type": "stream",
     "text": [
      "[0, 1, 2, 3]\n"
     ]
    }
   ],
   "source": [
    "test = [0, 1, 2, 3]\n",
    "\n",
    "test.extend([])\n",
    "\n",
    "print(test)"
   ]
  },
  {
   "cell_type": "code",
   "execution_count": 566,
   "metadata": {},
   "outputs": [
    {
     "name": "stdout",
     "output_type": "stream",
     "text": [
      "Obstacle Map:\n",
      "[1, 1, 1, 1, 1, 1, 1, 1, 1, 1, 1, 1]\n",
      "[1, 0, 0, 0, 0, 0, 0, 0, 0, 0, 0, 1]\n",
      "[1, 0, 1, 1, 1, 0, 1, 1, 1, 1, 0, 1]\n",
      "[1, 0, 1, 0, 0, 0, 1, 1, 1, 1, 0, 1]\n",
      "[1, 0, 0, 0, 1, 0, 1, 1, 1, 1, 0, 1]\n",
      "[1, 0, 1, 1, 1, 0, 1, 1, 1, 1, 0, 1]\n",
      "[1, 0, 1, 1, 1, 0, 1, 1, 1, 1, 0, 1]\n",
      "[1, 0, 1, 0, 0, 0, 0, 0, 0, 0, 0, 1]\n",
      "[1, 0, 0, 0, 0, 0, 1, 1, 1, 1, 0, 1]\n",
      "[1, 0, 1, 0, 0, 1, 0, 1, 1, 1, 0, 1]\n",
      "[1, 0, 1, 1, 1, 0, 0, 1, 1, 1, 0, 1]\n",
      "[1, 0, 1, 1, 1, 1, 1, 1, 1, 1, 0, 1]\n",
      "[1, 1, 1, 1, 1, 1, 1, 1, 1, 1, 1, 1]\n",
      "\n",
      "\n",
      "Node Structure: [xy-coordinates, cost, parent xy-coordinates]\n",
      "Back trace list:\n",
      "[[[4, 5], 6.414213562373095, [3, 5]], [[3, 5], 5.414213562373095, [2, 5]], [[2, 5], 4.414213562373095, [1, 4]], [[1, 4], 3.0, [1, 3]], [[1, 3], 2.0, [1, 2]], [[1, 2], 1.0, [1, 1]], [[1, 1], 0, [0, 0]]] \n",
      "\n",
      "1\t1\t1\t1\t1\t1\t1\t1\t1\t1\t1\t1\t\n",
      "1\t\u001b[1m 0\u001b[0m\t\u001b[1m 1.0\u001b[0m\t\u001b[1m 2.0\u001b[0m\t\u001b[1m 3.0\u001b[0m\t4.0\t5.0\t6.0\t0\t0\t0\t1\t\n",
      "1\t1.0\t1\t1\t1\t\u001b[1m 4.41\u001b[0m\t1\t1\t1\t1\t0\t1\t\n",
      "1\t2.0\t1\t4.83\t5.83\t\u001b[1m 5.41\u001b[0m\t1\t1\t1\t1\t0\t1\t\n",
      "1\t3.0\t3.41\t4.41\t1\t\u001b[1m 6.41\u001b[0m\t1\t1\t1\t1\t0\t1\t\n",
      "1\t4.0\t1\t1\t1\t0\t1\t1\t1\t1\t0\t1\t\n",
      "1\t5.0\t1\t1\t1\t0\t1\t1\t1\t1\t0\t1\t\n",
      "1\t6.0\t1\t0\t0\t0\t0\t0\t0\t0\t0\t1\t\n",
      "1\t0\t0\t0\t0\t0\t1\t1\t1\t1\t0\t1\t\n",
      "1\t0\t1\t0\t0\t1\t0\t1\t1\t1\t0\t1\t\n",
      "1\t0\t1\t1\t1\t0\t0\t1\t1\t1\t0\t1\t\n",
      "1\t0\t1\t1\t1\t1\t1\t1\t1\t1\t0\t1\t\n",
      "1\t1\t1\t1\t1\t1\t1\t1\t1\t1\t1\t1\t\n"
     ]
    }
   ],
   "source": [
    "# Node Structure: [[x, y], cost, [parentX, parentY]]\n",
    "startNode = [[1, 1], 0, [0,0]]\n",
    "goalNode = [[4, 5]]\n",
    "\n",
    "nodes = []\n",
    "nodes.append(startNode)\n",
    "\n",
    "# print(nodes)\n",
    "\n",
    "arenaHeight = 5;\n",
    "arenaWidth = 5;\n",
    "\n",
    "obstacles = [[1, 1, 1, 1, 1, 1, 1, 1, 1, 1, 1, 1], \n",
    "             [1, 0, 0, 0, 0, 0, 0, 0, 0, 0, 0, 1],  \n",
    "             [1, 0, 1, 1, 1, 0, 1, 1, 1, 1, 0, 1], \n",
    "             [1, 0, 1, 0, 0, 0, 1, 1, 1, 1, 0, 1], \n",
    "             [1, 0, 0, 0, 1, 0, 1, 1, 1, 1, 0, 1], \n",
    "             [1, 0, 1, 1, 1, 0, 1, 1, 1, 1, 0, 1], \n",
    "             [1, 0, 1, 1, 1, 0, 1, 1, 1, 1, 0, 1], \n",
    "             [1, 0, 1, 0, 0, 0, 0, 0, 0, 0, 0, 1], \n",
    "             [1, 0, 0, 0, 0, 0, 1, 1, 1, 1, 0, 1], \n",
    "             [1, 0, 1, 0, 0, 1, 0, 1, 1, 1, 0, 1], \n",
    "             [1, 0, 1, 1, 1, 0, 0, 1, 1, 1, 0, 1], \n",
    "             [1, 0, 1, 1, 1, 1, 1, 1, 1, 1, 0, 1], \n",
    "             [1, 1, 1, 1, 1, 1, 1, 1, 1, 1, 1, 1]]\n",
    "\n",
    "print('Obstacle Map:')\n",
    "for i in range(len(obstacles)):\n",
    "    print(obstacles[i])\n",
    "\n",
    "\n",
    "[reachedNode, Vn] = dijkstra(startNode, goalNode, obstacles)\n",
    "backList = backTrace(reachedNode, startNode, Vn)\n",
    "\n",
    "print('\\n\\nNode Structure: [xy-coordinates, cost, parent xy-coordinates]')\n",
    "print('Back trace list:')\n",
    "print(backList, '\\n')\n",
    "\n",
    "\n",
    "\n",
    "# OUTPUT Path generated:\n",
    "\n",
    "mapList =   obstacles\n",
    "\n",
    "for i in range(len(Vn)):\n",
    "    mapList[Vn[i][0][0]][Vn[i][0][1]] = round(Vn[i][1],2)\n",
    "    \n",
    "for i in range(len(backList)):\n",
    "    mapList[backList[i][0][0]][backList[i][0][1]] = str(round(backList[i][1],2))\n",
    "    \n",
    "for i in range(len(mapList)):\n",
    "    for j in range(len(mapList[i])):\n",
    "        if type(mapList[i][j]) == str:\n",
    "            print('\\033[1m', mapList[i][j], end = '\\033[0m\\t')\n",
    "        else:\n",
    "            print(mapList[i][j], end = '\\t')\n",
    "    print(end = '\\n')"
   ]
  },
  {
   "cell_type": "code",
   "execution_count": 555,
   "metadata": {},
   "outputs": [],
   "source": [
    "def createNode(xy, cost, parent, Vn):\n",
    "    if checkVisited(xy, Vn) == 0:\n",
    "        returnList = [[xy[0], xy[1]], cost, parent]\n",
    "        return returnList\n",
    "    else:\n",
    "        pass"
   ]
  },
  {
   "cell_type": "code",
   "execution_count": 533,
   "metadata": {},
   "outputs": [
    {
     "name": "stdout",
     "output_type": "stream",
     "text": [
      "1 1 i:  0\n",
      "2 1 i:  1\n",
      "1 1 i:  2\n",
      "1 1\n",
      "None\n"
     ]
    }
   ],
   "source": [
    "Vn = [[[1,1], 0, [0,0]], [[1,2], 1, [1,1]], [[2,1], 1, [1,1]]]\n",
    "\n",
    "test = createNode([2,1], 3, [1,1], Vn)\n",
    "print(test)\n",
    "\n",
    "if test:\n",
    "    print('yes')"
   ]
  },
  {
   "cell_type": "code",
   "execution_count": 332,
   "metadata": {},
   "outputs": [],
   "source": [
    "Test = [[[3, 1], 2.0, [2, 1]], [[2, 1], 1.0, [1, 1]], [[1, 2], 1.0, [1, 1]], [[3, 1], 2.0, [2, 1]], [[1, 3], 2.0, [1, 2]], [[2, 1], 1.0, [1, 1]], [[1, 2], 1.0, [1, 1]], [[3, 1], 2.0, [2, 1]], [[1, 3], 2.0, [1, 2]], [[2, 1], 1.0, [1, 1]], [[1, 2], 1.0, [1, 1]], [[3, 1], 2.0, [2, 1]], [[1, 3], 2.0, [1, 2]]]\n",
    "\n",
    "testSort = sortList(Test, 1)\n",
    "# print(testSort)"
   ]
  },
  {
   "cell_type": "code",
   "execution_count": 322,
   "metadata": {},
   "outputs": [],
   "source": [
    "def sortList(nodeList, index): \n",
    "    for i in range(0, len(nodeList)): \n",
    "        for j in range(0, len(nodeList)-i-1): \n",
    "            if (nodeList[j][index] > nodeList[j + 1][index]): \n",
    "                temp = nodeList[j] \n",
    "                nodeList[j]= nodeList[j + 1] \n",
    "                nodeList[j + 1]= temp \n",
    "    return nodeList "
   ]
  },
  {
   "cell_type": "code",
   "execution_count": 228,
   "metadata": {},
   "outputs": [
    {
     "name": "stdout",
     "output_type": "stream",
     "text": [
      "[[[1, 1], 1, [0, 0]], [[1, 2], 2, [0, 0]], [[5, 1], 5, [0, 0]], [[1, 8], 8, [0, 0]]]\n"
     ]
    }
   ],
   "source": [
    "test = [[[5, 1], 5, [0,0]], [[1, 2], 2, [0,0]], [[1, 1], 1, [0,0]], [[1, 8], 8, [0,0]]]\n",
    "# print(sort(test))"
   ]
  }
 ],
 "metadata": {
  "kernelspec": {
   "display_name": "Python 3",
   "language": "python",
   "name": "python3"
  },
  "language_info": {
   "codemirror_mode": {
    "name": "ipython",
    "version": 3
   },
   "file_extension": ".py",
   "mimetype": "text/x-python",
   "name": "python",
   "nbconvert_exporter": "python",
   "pygments_lexer": "ipython3",
   "version": "3.7.4"
  }
 },
 "nbformat": 4,
 "nbformat_minor": 2
}
