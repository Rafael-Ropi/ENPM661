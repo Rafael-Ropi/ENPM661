{
 "cells": [
  {
   "cell_type": "code",
   "execution_count": 48,
   "metadata": {},
   "outputs": [],
   "source": [
    "import numpy as np\n",
    "import math\n",
    "import sys\n",
    "import gc\n",
    "import copy\n"
   ]
  },
  {
   "cell_type": "code",
   "execution_count": 187,
   "metadata": {},
   "outputs": [],
   "source": [
    "# STATE_POS = 0\n",
    "# PARENT_POS = 1\n",
    "# ZERO_POS = 2\n",
    "# ITERATION_POS = 3\n",
    "# STATE_NUM_POS = 4\n",
    "\n",
    "# input_state = [[1, 2, 3], [4, 5, 6], [7, 8, 0]]\n",
    "# goal_state = [[1, 2, 3], [4, 5, 6], [7, 8, 0]]\n",
    "\n",
    "# check_validity(input_state)\n",
    "# check_solvability(input_state, goal_state)\n",
    "\n",
    "# # print(getZeroPos(input_state))\n",
    "\n",
    "# # print(mat2num(input_state))\n",
    "# new_state = moveUp(input_state)\n",
    "# print(new_state)\n",
    "\n",
    "# new_state = moveLeft(new_state)\n",
    "# print(new_state)\n",
    "\n",
    "# new_state = moveDown(new_state)\n",
    "# print(new_state)\n",
    "\n",
    "# new_state = moveRight(new_state)\n",
    "# print(new_state)\n",
    "\n",
    "# stateList \n",
    "\n",
    "\n",
    "\n",
    "\n",
    "\n",
    "\n",
    "\n",
    "\n",
    "\n",
    "\n",
    "# # startDict = {}\n",
    "# # startDict[1] = {\"state\": input_state, \"parent\": 0}\n",
    "# # startDict[2] = {\"state\": goal_state, \"parent\": 1}\n",
    "\n",
    "# iteration = 0\n",
    "\n",
    "# stateList = []\n",
    "# stateList.append([input_state, 0, getZeroPos(input_state), iteration, mat2num(input_state)])\n",
    "# stateList.append([goal_state, 1, getZeroPos(goal_state), iteration, mat2num(goal_state)])\n",
    "\n",
    "# # print(stateList)\n",
    "\n",
    "\n",
    "\n",
    "\n",
    "\n",
    "# # newDict[1] = {\"state\": input_state}, {\"parent\": 1}\n",
    "# # newDict[2] = {\"state\": input_state, \"parent\": 3}\n",
    "# # newDict[502] = {\"state\": input_state, \"parent\": 5}\n",
    "# # print(newDict)\n",
    "\n",
    "# # newDict[502].get(\"parent\")"
   ]
  },
  {
   "cell_type": "code",
   "execution_count": null,
   "metadata": {},
   "outputs": [],
   "source": [
    "# input_state = [[1, 2, 3], [4, 5, 6], [7, 8, 0]]\n",
    "# goal_state = [[1, 2, 3], [4, 5, 6], [7, 8, 0]]\n",
    "\n",
    "# iteration = 0\n",
    "# currentState = input_state\n",
    "# currentIteration = 0\n",
    "# stateList = []\n",
    "# parent = 0\n",
    "\n",
    "# STATE_POS = 0\n",
    "# PARENT_POS = 1\n",
    "# ZERO_POS = 2\n",
    "# ITERATION_POS = 3\n",
    "# STATE_NUM_POS = 4\n",
    "\n",
    "\n",
    "\n",
    "# check_validity(input_state)\n",
    "# check_solvability(input_state, goal_state)\n",
    "\n"
   ]
  },
  {
   "cell_type": "code",
   "execution_count": 240,
   "metadata": {},
   "outputs": [
    {
     "name": "stdout",
     "output_type": "stream",
     "text": [
      "[[[[1, 2, 3], [4, 5, 6], [7, 8, 0]], 0, 0, [2, 2], 0, 123456780, 'noDirection']]\n",
      "Solution;  [[1, 2, 3], [4, 5, 6], [7, 8, 0]] / Number of Levels:  13 / Solution Pos in Tree:  [12, 442]\n",
      "[[[1, 2, 3], [4, 5, 6], [7, 8, 0]], 11, 220, [2, 2], 12, 123456780, 'Right']\n"
     ]
    }
   ],
   "source": [
    "input_state = [[1, 2, 3], [4, 5, 6], [7, 8, 0]]\n",
    "goal_state = [[1, 2, 3], [4, 5, 6], [7, 8, 0]]\n",
    "solutionState = [[0, 0, 0], [0, 0, 0], [0, 0, 0]]\n",
    "solutionPos = [0, 0]  #Level and Iteration\n",
    "\n",
    "goalStateNum = mat2num(goal_state)\n",
    "\n",
    "STATE_POS = 0\n",
    "PARENT_POS_LEVEL = 1\n",
    "PARENT_POS_ITERATION = 2\n",
    "ZERO_POS = 3\n",
    "ITERATION_POS = 4\n",
    "STATE_NUM_POS = 5\n",
    "ORIGIN_POS = 6\n",
    "\n",
    "level = 0\n",
    "currentState = copy.deepcopy(input_state)\n",
    "currentLevel = 0\n",
    "stateList = []\n",
    "solutionFound = False\n",
    "\n",
    "parent_level = 0\n",
    "parent_iteration = 0\n",
    "\n",
    "[iZero, jZero] = getZeroPos(copy.deepcopy(currentState))\n",
    "stateList.append([])\n",
    "stateList[0].append([currentState.copy(), parent_level, parent_iteration, [iZero, jZero], level, mat2num(currentState.copy()), \"noDirection\"])\n",
    "print(stateList[0])\n",
    "\n",
    "for level in range(20):\n",
    "    stateList.append([])\n",
    "    \n",
    "    for iteration in range(len(stateList[level])):\n",
    "        [iZero, jZero] = getZeroPos(copy.deepcopy(stateList[level][iteration][STATE_POS]))\n",
    "#         print(stateList[level][iteration])\n",
    "        [iZero, jZero] = getZeroPos(stateList[level][iteration][STATE_POS])\n",
    "        if iZero > 0 and stateList[level][iteration][ORIGIN_POS] != \"Down\":\n",
    "            up = True\n",
    "            [newState, origin] = moveUp(copy.deepcopy(stateList[level][iteration][STATE_POS]))\n",
    "            if checkNewState(newState, stateList):\n",
    "                stateList[level+1].append([newState, level, iteration, getZeroPos(newState), level+1, mat2num(newState), origin])\n",
    "            \n",
    "            if mat2num(newState) == goalStateNum:\n",
    "                stateList[level+1].append([newState, level, iteration, getZeroPos(newState), level+1, mat2num(newState), origin])\n",
    "                solutionFound = True\n",
    "                solutionState = newState\n",
    "                solutionPos = [level, iteration]\n",
    "                break\n",
    "                \n",
    "#             print(\"Up, level: \", level, \"iteration: \", iteration, \"Before: \", stateList[level][i][STATE_POS], \"After: \", newState)\n",
    " \n",
    "        if iZero < 2 and stateList[level][iteration][ORIGIN_POS] != \"Up\":\n",
    "            down = True\n",
    "            [newState, origin] = moveDown(copy.deepcopy(stateList[level][iteration][STATE_POS]))\n",
    "            if checkNewState(newState, stateList):\n",
    "                stateList[level+1].append([newState, level, iteration, getZeroPos(newState), level+1, mat2num(newState), origin])\n",
    "            \n",
    "            if mat2num(newState) == goalStateNum:\n",
    "                stateList[level+1].append([newState, level, iteration, getZeroPos(newState), level+1, mat2num(newState), origin])\n",
    "                solutionFound = True\n",
    "                solutionState = newState\n",
    "                solutionPos = [level, iteration]\n",
    "                break\n",
    "                \n",
    "#             print(\"Down, level: \", level, \"iteration: \", iteration, \"Before: \", stateList[level][iteration][STATE_POS], \"After: \", newState)\n",
    " \n",
    "\n",
    "        if jZero > 0 and stateList[level][iteration][ORIGIN_POS] != \"Right\":\n",
    "            left = True\n",
    "            [newState, origin] = moveLeft(copy.deepcopy(stateList[level][iteration][STATE_POS]))\n",
    "            if checkNewState(newState, stateList):\n",
    "                stateList[level+1].append([newState, level, iteration, getZeroPos(newState), level+1, mat2num(newState), origin])\n",
    "            \n",
    "            if mat2num(newState) == goalStateNum:\n",
    "                stateList[level+1].append([newState, level, iteration, getZeroPos(newState), level+1, mat2num(newState), origin])\n",
    "                solutionFound = True\n",
    "                solutionState = newState\n",
    "                solutionPos = [level, iteration]\n",
    "                break\n",
    "            \n",
    "#             print(\"Left, level: \", level, \"iteration: \", iteration, \"Before: \", stateList[level][iteration][STATE_POS], \"After: \", newState)\n",
    " \n",
    "        if jZero < 2 and stateList[level][iteration][ORIGIN_POS] != \"Left\":\n",
    "            right = True\n",
    "            [newState, origin] = moveRight(copy.deepcopy(stateList[level][iteration][STATE_POS]))\n",
    "            if checkNewState(newState, stateList):\n",
    "                stateList[level+1].append([newState, level, iteration, getZeroPos(newState), level+1, mat2num(newState), origin])\n",
    "            \n",
    "            if mat2num(newState) == goalStateNum:\n",
    "                stateList[level+1].append([newState, level, iteration, getZeroPos(newState), level+1, mat2num(newState), origin])\n",
    "                solutionFound = True\n",
    "                solutionState = newState\n",
    "                solutionPos = [level+1, len(stateList[level+1])-1]\n",
    "                break\n",
    "            \n",
    "#             print(\"Right, level: \", level, \"iteration: \", iteration, \"Before: \", stateList[level][iteration][STATE_POS], \"After: \", newState)\n",
    "    \n",
    "    if solutionFound == True:\n",
    "        break\n",
    "        \n",
    "\n",
    "print(\"Solution; \", solutionState, \"/ Number of Levels: \", len(stateList), \"/ Solution Pos in Tree: \", solutionPos)\n",
    "    \n",
    "#     stateList[iteration].append(currentState)\n",
    "\n",
    "\n",
    "\n",
    "# [iZero, jZero] = getZeroPos(current_state)\n",
    "# if iZero > 0:\n",
    "#     up = True\n",
    "    \n",
    "# if iZero < 2:\n",
    "#     down = True\n",
    "    \n",
    "# if jZero > 0:\n",
    "#     left = True\n",
    "    \n",
    "# if jZero < 2:\n",
    "#     right = True\n",
    "    \n",
    "    \n",
    "\n",
    "\n",
    "\n",
    "# stateList.append([current_state, parent, [iZero, jZero], iteration, mat2num(current_state)])\n",
    "\n",
    "# for i in range(len(stateList)):\n",
    "#     print(stateList[i][4])\n",
    "    \n",
    "# print(stateList[0])\n",
    "\n",
    "# checkNewState(123456780, stateList)\n",
    "\n",
    "# print(\"length0 = \", len(stateList[0]))\n",
    "# print(\"LEvel 0\", stateList[0])\n",
    "# print(\"length1 = \", len(stateList[1]))\n",
    "# print(\"LEvel 1\", stateList[1])\n",
    "# print(\"length2 = \", len(stateList[2]))\n",
    "# print(\"LEvel 2\", stateList[2])\n",
    "# print(\"length3 = \", len(stateList[3]))\n",
    "# print(\"LEvel 3\", stateList[3])\n",
    "# print(\"length4 = \", len(stateList[3]))\n",
    "# print(\"LEvel 4\", stateList[3])\n",
    "\n",
    "print(stateList[12][442])"
   ]
  },
  {
   "cell_type": "code",
   "execution_count": 201,
   "metadata": {},
   "outputs": [
    {
     "name": "stdout",
     "output_type": "stream",
     "text": [
      "[[[[1, 5, 2], [4, 0, 3], [7, 8, 6]], 3, 0, [1, 1], 4, 152403786, 'Down'], [[[0, 1, 2], [4, 5, 3], [7, 8, 6]], 3, 0, [0, 0], 4, 12453786, 'Left'], [[[0, 1, 3], [4, 2, 5], [7, 8, 6]], 3, 1, [0, 0], 4, 13425786, 'Left'], [[[1, 3, 0], [4, 2, 5], [7, 8, 6]], 3, 1, [0, 2], 4, 130425786, 'Right'], [[[1, 2, 3], [4, 8, 5], [0, 7, 6]], 3, 2, [2, 0], 4, 123485076, 'Left'], [[[1, 2, 3], [4, 8, 5], [7, 6, 0]], 3, 2, [2, 2], 4, 123485760, 'Right'], [[[0, 2, 3], [1, 4, 5], [7, 8, 6]], 3, 3, [0, 0], 4, 23145786, 'Up'], [[[1, 2, 3], [7, 4, 5], [0, 8, 6]], 3, 3, [2, 0], 4, 123745086, 'Down'], [[[0, 1, 3], [4, 2, 6], [7, 5, 8]], 3, 4, [0, 0], 4, 13426758, 'Left'], [[[1, 3, 0], [4, 2, 6], [7, 5, 8]], 3, 4, [0, 2], 4, 130426758, 'Right'], [[[0, 2, 3], [1, 4, 6], [7, 5, 8]], 3, 5, [0, 0], 4, 23146758, 'Up'], [[[1, 2, 3], [7, 4, 6], [0, 5, 8]], 3, 5, [2, 0], 4, 123746058, 'Down'], [[[1, 2, 0], [4, 6, 3], [7, 5, 8]], 3, 6, [0, 2], 4, 120463758, 'Up'], [[[1, 2, 3], [4, 6, 8], [7, 5, 0]], 3, 6, [2, 2], 4, 123468750, 'Down'], [[[0, 2, 3], [1, 5, 6], [4, 7, 8]], 3, 7, [0, 0], 4, 23156478, 'Up'], [[[1, 2, 3], [5, 0, 6], [4, 7, 8]], 3, 7, [1, 1], 4, 123506478, 'Right']]\n",
      "[[[1, 2, 3], [0, 5, 6], [4, 7, 8]], 2, 3, [1, 0], 3, 123056478, 'Up']\n"
     ]
    }
   ],
   "source": []
  },
  {
   "cell_type": "code",
   "execution_count": 184,
   "metadata": {},
   "outputs": [
    {
     "name": "stdout",
     "output_type": "stream",
     "text": [
      "1\n",
      "2\n",
      "4\n",
      "8\n",
      "16\n"
     ]
    }
   ],
   "source": [
    "print(len(stateList[0]))\n",
    "print(len(stateList[1]))\n",
    "print(len(stateList[2]))\n",
    "print(len(stateList[3]))\n",
    "print(len(stateList[4]))"
   ]
  },
  {
   "cell_type": "code",
   "execution_count": 111,
   "metadata": {},
   "outputs": [
    {
     "name": "stdout",
     "output_type": "stream",
     "text": [
      "[[[[1, 2, 3], [4, 5, 6], [7, 8, 0]], 0, [2, 2], 0, 123456780], [[1, 2, 3], [4, 5, 6], [7, 8, 0]]]\n",
      "[[1, 2, 3], [4, 5, 6], [7, 8, 0]]\n"
     ]
    }
   ],
   "source": [
    "print(stateList[0])\n",
    "print(stateList[0][1])"
   ]
  },
  {
   "cell_type": "code",
   "execution_count": 130,
   "metadata": {},
   "outputs": [
    {
     "name": "stdout",
     "output_type": "stream",
     "text": [
      "1 2\n",
      "3\n",
      "[1, 2]\n"
     ]
    }
   ],
   "source": [
    "moveUp([[1, 2, 3], [4, 5, 0], [7, 8, 6]])\n",
    "\n",
    "print(getZeroPos([[1, 2, 3], [4, 5, 0], [7, 8, 6]]))"
   ]
  },
  {
   "cell_type": "code",
   "execution_count": 151,
   "metadata": {},
   "outputs": [
    {
     "data": {
      "text/plain": [
       "True"
      ]
     },
     "execution_count": 151,
     "metadata": {},
     "output_type": "execute_result"
    }
   ],
   "source": [
    "\"hello\" == \"hello\""
   ]
  },
  {
   "cell_type": "code",
   "execution_count": null,
   "metadata": {},
   "outputs": [],
   "source": [
    "hello = [[2, 3], [4, 7]]\n",
    "hoi = hello[0][1]\n",
    "print(hello)\n",
    "print(hoi)\n",
    "print(hello)\n",
    "print(hoi)\n",
    "print(hoi is hello[0][1])\n",
    "print(hoi == hello[0][1])"
   ]
  },
  {
   "cell_type": "code",
   "execution_count": null,
   "metadata": {},
   "outputs": [],
   "source": [
    "sliceObj = slice(0, len(stateList))\n",
    "\n",
    "print(stateList[2][4])\n",
    "print(stateList[sliceObj][4])"
   ]
  },
  {
   "cell_type": "code",
   "execution_count": 66,
   "metadata": {},
   "outputs": [],
   "source": [
    "def check_solvability(startState, goalState):\n",
    "    goalInversions = 0\n",
    "    startInversions = 0\n",
    "    \n",
    "    oneDimStart = []\n",
    "    oneDimGoal = []\n",
    "    \n",
    "    for i in range(len(startState)):\n",
    "        for j in range(len(startState[i])):\n",
    "            oneDimStart.append(startState[i][j])\n",
    "            oneDimGoal.append(goalState[i][j])\n",
    "    \n",
    "#     print(oneDimStart, oneDimGoal)\n",
    "    \n",
    "    \n",
    "    for i in range(9):\n",
    "        for j in range(9-i):\n",
    "#             print(i, j, i+j)\n",
    "            if oneDimGoal[i] < oneDimGoal[i+j]:\n",
    "                if(oneDimGoal[i] != 0):\n",
    "                    goalInversions = goalInversions+1\n",
    "                \n",
    "            if oneDimStart[i] < oneDimStart[i+j]:\n",
    "                if(oneDimStart[i] != 0):\n",
    "                    startInversions = startInversions+1\n",
    "                    \n",
    "    if goalInversions%2 != startInversions%2:\n",
    "        raise Exception(\"Goal-State chan not be Achieved with the given Input-State\")\n",
    "    \n",
    "    print(\"Input state is solvable!\")    "
   ]
  },
  {
   "cell_type": "code",
   "execution_count": 67,
   "metadata": {},
   "outputs": [],
   "source": [
    "def check_validity(state):\n",
    "#   Check if input dimension is correct        \n",
    "    if len(state) != 3:\n",
    "        raise Exception(\"Not supported input dimension. Must be 3x3 matrix\")\n",
    "    for i in range(len(state)):\n",
    "        if len(state[i]) != 3:\n",
    "            raise Exception(\"Not supported input dimension. Must be 3x3 matrix\")\n",
    "\n",
    "             \n",
    "#   Check if all input elements is an integer\n",
    "    for i in range(len(state)):\n",
    "        for j in range(len(state[i])):\n",
    "            if type(state[i][j]) != int:\n",
    "#                 print(i, j, state[i][j])\n",
    "                raise Exception(\"Input must be an integer\")\n",
    "\n",
    "# #   Check if only valid Digits (0-8)\n",
    "    for i in range(len(state)):\n",
    "        for j in range(len(state[i])):\n",
    "            if state[i][j] > 8 or state[i][j] < 0:\n",
    "                raise Exception(\"All input elements must be in range 0-8\")\n",
    "            \n",
    "# #    Check if all entries are unique            \n",
    "    oneDimList = []\n",
    "    for i in range(len(state)):\n",
    "        for j in range(len(state[i])):\n",
    "            oneDimList.append(state[i][j])\n",
    "    \n",
    "    for i in range(len(oneDimList)-1):\n",
    "        if sorted(oneDimList)[i] == sorted(oneDimList)[i+1]:\n",
    "            raise Exception(\"All entries must be unique\")\n",
    "\n",
    "    print(\"Input state is valid!\")"
   ]
  },
  {
   "cell_type": "code",
   "execution_count": 129,
   "metadata": {},
   "outputs": [],
   "source": [
    "def getZeroPos(state):\n",
    "    for i in range(len(state)):\n",
    "        for j in range(len(state[i])):\n",
    "            if state[i][j] == 0:\n",
    "                return [i, j]"
   ]
  },
  {
   "cell_type": "code",
   "execution_count": 68,
   "metadata": {},
   "outputs": [],
   "source": [
    "def mat2num(state):\n",
    "    iteration = 0;\n",
    "    num = 0;\n",
    "    for i in range(len(state)):\n",
    "        for j in range(len(state[i])):\n",
    "            num += (state[i][j] * pow(10, 8-iteration))\n",
    "            iteration += 1;\n",
    "            \n",
    "    return num\n",
    "            "
   ]
  },
  {
   "cell_type": "code",
   "execution_count": 205,
   "metadata": {},
   "outputs": [],
   "source": [
    "def checkNewState(newState, stateList):\n",
    "    output = True\n",
    "    newStateNum = mat2num(newState)\n",
    "    for i in range(len(stateList)):\n",
    "        for j in range(len(stateList[i])):\n",
    "#             print(\"i: \",i, \"j:\", j, \"stateListNum\", stateList[i][j][STATE_NUM_POS])\n",
    "#             print(newStateNum)\n",
    "            if newStateNum == stateList[i][j][STATE_NUM_POS]:\n",
    "                output = False\n",
    "            else:\n",
    "                output = True\n",
    "#     print(\"NewState: \", newStateNum, \"New? \", output) \n",
    "    return output"
   ]
  },
  {
   "cell_type": "code",
   "execution_count": 182,
   "metadata": {},
   "outputs": [
    {
     "name": "stdout",
     "output_type": "stream",
     "text": [
      "NewState:  123568047 New?  False\n"
     ]
    },
    {
     "data": {
      "text/plain": [
       "False"
      ]
     },
     "execution_count": 182,
     "metadata": {},
     "output_type": "execute_result"
    }
   ],
   "source": [
    "checkNewState(newState, stateList)"
   ]
  },
  {
   "cell_type": "code",
   "execution_count": 172,
   "metadata": {},
   "outputs": [
    {
     "data": {
      "text/plain": [
       "9"
      ]
     },
     "execution_count": 172,
     "metadata": {},
     "output_type": "execute_result"
    }
   ],
   "source": [
    "len(stateList)"
   ]
  },
  {
   "cell_type": "code",
   "execution_count": 186,
   "metadata": {},
   "outputs": [],
   "source": [
    "def moveUp(stateToMove):\n",
    "    movedState = stateToMove\n",
    "    [i, j] = getZeroPos(movedState)\n",
    "#     print(i, j)\n",
    "    numMove = movedState[i-1][j]\n",
    "#     print(numMove)\n",
    "    movedState[i][j] = int(numMove)\n",
    "    movedState[i-1][j] = 0\n",
    "    \n",
    "    return [movedState, \"Up\"]\n",
    "\n",
    "\n",
    "\n",
    "def moveDown(stateToMove):\n",
    "    movedState = stateToMove\n",
    "    [i, j] = getZeroPos(stateToMove)\n",
    "    numMove = stateToMove[i+1][j]\n",
    "    movedState[i][j] = numMove\n",
    "    movedState[i+1][j] = 0\n",
    "    \n",
    "    return [movedState, \"Down\"]\n",
    "\n",
    "def moveLeft(stateToMove):\n",
    "    movedState = stateToMove\n",
    "    [i, j] = getZeroPos(stateToMove)\n",
    "    numMove = stateToMove[i][j-1]\n",
    "    movedState[i][j] = numMove\n",
    "    movedState[i][j-1] = 0\n",
    "    \n",
    "    return [movedState, \"Left\"]\n",
    "\n",
    "def moveRight(stateToMove):\n",
    "    movedState = stateToMove\n",
    "    [i, j] = getZeroPos(stateToMove)\n",
    "    numMove = stateToMove[i][j+1]\n",
    "    movedState[i][j] = numMove\n",
    "    movedState[i][j+1] = 0\n",
    "    \n",
    "    return [movedState, \"Right\"]\n",
    "\n"
   ]
  },
  {
   "cell_type": "code",
   "execution_count": null,
   "metadata": {},
   "outputs": [],
   "source": [
    "def backTracing(solutionPos, stateList):\n",
    "    backTraceList = stateList[solutionPos[0]][solutionPos[1]][STATE_POS]    \n",
    "    \n",
    "    solutionLevel = solutionPos[0]\n",
    "    \n",
    "    firstParentIteration = stateList[solutionLevel][solutionPos[1]][PARENT_POS_ITERATION]\n",
    "    \n",
    "    for i in range(len(solutionPos[0])):\n",
    "        parentLevel = stateList[solutionPos[0]-1][solutionPos]\n",
    "        backTraceList.append(stateList[][][])"
   ]
  },
  {
   "cell_type": "code",
   "execution_count": null,
   "metadata": {},
   "outputs": [],
   "source": [
    "\n",
    "for i in range(len(input_state)):\n",
    "    print(i)"
   ]
  },
  {
   "cell_type": "code",
   "execution_count": null,
   "metadata": {},
   "outputs": [],
   "source": [
    "for i in range(1,3):\n",
    "    print(i)"
   ]
  },
  {
   "cell_type": "code",
   "execution_count": null,
   "metadata": {},
   "outputs": [],
   "source": []
  },
  {
   "cell_type": "code",
   "execution_count": null,
   "metadata": {},
   "outputs": [],
   "source": []
  },
  {
   "cell_type": "code",
   "execution_count": 159,
   "metadata": {},
   "outputs": [
    {
     "name": "stdout",
     "output_type": "stream",
     "text": [
      "moved state: [[1, 2, 3], [4, 5, 0], [7, 8, 6]]\n",
      "input state: [[1, 2, 3], [4, 5, 6], [7, 8, 0]]\n"
     ]
    }
   ],
   "source": [
    "exampleState = [[1, 2, 3], [4, 5, 6], [7, 8, 0]]\n",
    "whatState = [[1, 2, 3], [4, 5, 6], [7, 8, 0]]\n",
    "\n",
    "movedState = copy.deepcopy(exampleState)\n",
    "\n",
    "\n",
    "\n",
    "newList = list(whatState)\n",
    "\n",
    "for i in range(len(newList)):\n",
    "    for j in range(len(newList[i])):\n",
    "        if newList[i][j] == 0:\n",
    "            iPos = i\n",
    "            jPos = j\n",
    "    \n",
    "numMove = movedState[iPos-1][jPos]\n",
    "movedState[iPos][jPos] = int(numMove)\n",
    "movedState[iPos-1][jPos] = 0\n",
    "    \n",
    "print(\"moved state:\", movedState)\n",
    "print(\"input state:\", exampleState)"
   ]
  },
  {
   "cell_type": "code",
   "execution_count": 165,
   "metadata": {},
   "outputs": [
    {
     "name": "stdout",
     "output_type": "stream",
     "text": [
      "[[[[[1, 2, 3], [4, 5, 6], [7, 8, 0]], 0, [2, 2], 0, 123456780, 'noDirection']], [[[[1, 2, 3], [4, 5, 0], [7, 8, 6]], 123456780, [1, 2], 1, 123450786, 'Up'], [[[1, 2, 3], [4, 5, 6], [7, 0, 8]], 123456780, [2, 1], 1, 123456708, 'Left']], [[[[1, 2, 0], [4, 5, 3], [7, 8, 6]], 123450786, [0, 2], 2, 120453786, 'Up'], [[[1, 2, 3], [4, 0, 5], [7, 8, 6]], 123450786, [1, 1], 2, 123405786, 'Left'], [[[1, 2, 3], [4, 0, 6], [7, 5, 8]], 123456708, [1, 1], 2, 123406758, 'Up'], [[[1, 2, 3], [4, 5, 6], [0, 7, 8]], 123456708, [2, 0], 2, 123456078, 'Left']], [[[[1, 0, 2], [4, 5, 3], [7, 8, 6]], 120453786, [0, 1], 3, 102453786, 'Left'], [[[1, 0, 3], [4, 2, 5], [7, 8, 6]], 123405786, [0, 1], 3, 103425786, 'Up'], [[[1, 2, 3], [4, 8, 5], [7, 0, 6]], 123405786, [2, 1], 3, 123485706, 'Down'], [[[1, 2, 3], [0, 4, 5], [7, 8, 6]], 123405786, [1, 0], 3, 123045786, 'Left'], [[[1, 0, 3], [4, 2, 6], [7, 5, 8]], 123406758, [0, 1], 3, 103426758, 'Up'], [[[1, 2, 3], [0, 4, 6], [7, 5, 8]], 123406758, [1, 0], 3, 123046758, 'Left'], [[[1, 2, 3], [4, 6, 0], [7, 5, 8]], 123406758, [1, 2], 3, 123460758, 'Right'], [[[1, 2, 3], [0, 5, 6], [4, 7, 8]], 123456078, [1, 0], 3, 123056478, 'Up']], [[[[1, 5, 2], [4, 0, 3], [7, 8, 6]], 102453786, [1, 1], 4, 152403786, 'Down'], [[[0, 1, 2], [4, 5, 3], [7, 8, 6]], 102453786, [0, 0], 4, 12453786, 'Left'], [[[0, 1, 3], [4, 2, 5], [7, 8, 6]], 103425786, [0, 0], 4, 13425786, 'Left'], [[[1, 3, 0], [4, 2, 5], [7, 8, 6]], 103425786, [0, 2], 4, 130425786, 'Right'], [[[1, 2, 3], [4, 8, 5], [0, 7, 6]], 123485706, [2, 0], 4, 123485076, 'Left'], [[[1, 2, 3], [4, 8, 5], [7, 6, 0]], 123485706, [2, 2], 4, 123485760, 'Right'], [[[0, 2, 3], [1, 4, 5], [7, 8, 6]], 123045786, [0, 0], 4, 23145786, 'Up'], [[[1, 2, 3], [7, 4, 5], [0, 8, 6]], 123045786, [2, 0], 4, 123745086, 'Down'], [[[0, 1, 3], [4, 2, 6], [7, 5, 8]], 103426758, [0, 0], 4, 13426758, 'Left'], [[[1, 3, 0], [4, 2, 6], [7, 5, 8]], 103426758, [0, 2], 4, 130426758, 'Right'], [[[0, 2, 3], [1, 4, 6], [7, 5, 8]], 123046758, [0, 0], 4, 23146758, 'Up'], [[[1, 2, 3], [7, 4, 6], [0, 5, 8]], 123046758, [2, 0], 4, 123746058, 'Down'], [[[1, 2, 0], [4, 6, 3], [7, 5, 8]], 123460758, [0, 2], 4, 120463758, 'Up'], [[[1, 2, 3], [4, 6, 8], [7, 5, 0]], 123460758, [2, 2], 4, 123468750, 'Down'], [[[0, 2, 3], [1, 5, 6], [4, 7, 8]], 123056478, [0, 0], 4, 23156478, 'Up'], [[[1, 2, 3], [5, 0, 6], [4, 7, 8]], 123056478, [1, 1], 4, 123506478, 'Right']], [[[[1, 5, 2], [4, 8, 3], [7, 0, 6]], 152403786, [2, 1], 5, 152483706, 'Down'], [[[1, 5, 2], [0, 4, 3], [7, 8, 6]], 152403786, [1, 0], 5, 152043786, 'Left'], [[[1, 5, 2], [4, 3, 0], [7, 8, 6]], 152403786, [1, 2], 5, 152430786, 'Right'], [[[4, 1, 2], [0, 5, 3], [7, 8, 6]], 12453786, [1, 0], 5, 412053786, 'Down'], [[[4, 1, 3], [0, 2, 5], [7, 8, 6]], 13425786, [1, 0], 5, 413025786, 'Down'], [[[1, 3, 5], [4, 2, 0], [7, 8, 6]], 130425786, [1, 2], 5, 135420786, 'Down'], [[[1, 2, 3], [0, 8, 5], [4, 7, 6]], 123485076, [1, 0], 5, 123085476, 'Up'], [[[1, 2, 3], [4, 8, 0], [7, 6, 5]], 123485760, [1, 2], 5, 123480765, 'Up'], [[[2, 0, 3], [1, 4, 5], [7, 8, 6]], 23145786, [0, 1], 5, 203145786, 'Right'], [[[1, 2, 3], [7, 4, 5], [8, 0, 6]], 123745086, [2, 1], 5, 123745806, 'Right'], [[[4, 1, 3], [0, 2, 6], [7, 5, 8]], 13426758, [1, 0], 5, 413026758, 'Down'], [[[1, 3, 6], [4, 2, 0], [7, 5, 8]], 130426758, [1, 2], 5, 136420758, 'Down'], [[[2, 0, 3], [1, 4, 6], [7, 5, 8]], 23146758, [0, 1], 5, 203146758, 'Right'], [[[1, 2, 3], [7, 4, 6], [5, 0, 8]], 123746058, [2, 1], 5, 123746508, 'Right'], [[[1, 0, 2], [4, 6, 3], [7, 5, 8]], 120463758, [0, 1], 5, 102463758, 'Left'], [[[1, 2, 3], [4, 6, 8], [7, 0, 5]], 123468750, [2, 1], 5, 123468705, 'Left'], [[[2, 0, 3], [1, 5, 6], [4, 7, 8]], 23156478, [0, 1], 5, 203156478, 'Right'], [[[1, 0, 3], [5, 2, 6], [4, 7, 8]], 123506478, [0, 1], 5, 103526478, 'Up'], [[[1, 2, 3], [5, 7, 6], [4, 0, 8]], 123506478, [2, 1], 5, 123576408, 'Down'], [[[1, 2, 3], [5, 6, 0], [4, 7, 8]], 123506478, [1, 2], 5, 123560478, 'Right']], [[[[1, 5, 2], [4, 8, 3], [0, 7, 6]], 152483706, [2, 0], 6, 152483076, 'Left'], [[[1, 5, 2], [4, 8, 3], [7, 6, 0]], 152483706, [2, 2], 6, 152483760, 'Right'], [[[0, 5, 2], [1, 4, 3], [7, 8, 6]], 152043786, [0, 0], 6, 52143786, 'Up'], [[[1, 5, 2], [7, 4, 3], [0, 8, 6]], 152043786, [2, 0], 6, 152743086, 'Down'], [[[1, 5, 0], [4, 3, 2], [7, 8, 6]], 152430786, [0, 2], 6, 150432786, 'Up'], [[[1, 5, 2], [4, 3, 6], [7, 8, 0]], 152430786, [2, 2], 6, 152436780, 'Down'], [[[4, 1, 2], [7, 5, 3], [0, 8, 6]], 412053786, [2, 0], 6, 412753086, 'Down'], [[[4, 1, 2], [5, 0, 3], [7, 8, 6]], 412053786, [1, 1], 6, 412503786, 'Right'], [[[4, 1, 3], [7, 2, 5], [0, 8, 6]], 413025786, [2, 0], 6, 413725086, 'Down'], [[[4, 1, 3], [2, 0, 5], [7, 8, 6]], 413025786, [1, 1], 6, 413205786, 'Right'], [[[1, 3, 5], [4, 2, 6], [7, 8, 0]], 135420786, [2, 2], 6, 135426780, 'Down'], [[[1, 3, 5], [4, 0, 2], [7, 8, 6]], 135420786, [1, 1], 6, 135402786, 'Left'], [[[0, 2, 3], [1, 8, 5], [4, 7, 6]], 123085476, [0, 0], 6, 23185476, 'Up'], [[[1, 2, 3], [8, 0, 5], [4, 7, 6]], 123085476, [1, 1], 6, 123805476, 'Right'], [[[1, 2, 0], [4, 8, 3], [7, 6, 5]], 123480765, [0, 2], 6, 120483765, 'Up'], [[[1, 2, 3], [4, 0, 8], [7, 6, 5]], 123480765, [1, 1], 6, 123408765, 'Left'], [[[2, 4, 3], [1, 0, 5], [7, 8, 6]], 203145786, [1, 1], 6, 243105786, 'Down'], [[[2, 3, 0], [1, 4, 5], [7, 8, 6]], 203145786, [0, 2], 6, 230145786, 'Right'], [[[1, 2, 3], [7, 0, 5], [8, 4, 6]], 123745806, [1, 1], 6, 123705846, 'Up'], [[[1, 2, 3], [7, 4, 5], [8, 6, 0]], 123745806, [2, 2], 6, 123745860, 'Right'], [[[4, 1, 3], [7, 2, 6], [0, 5, 8]], 413026758, [2, 0], 6, 413726058, 'Down'], [[[4, 1, 3], [2, 0, 6], [7, 5, 8]], 413026758, [1, 1], 6, 413206758, 'Right'], [[[1, 3, 6], [4, 2, 8], [7, 5, 0]], 136420758, [2, 2], 6, 136428750, 'Down'], [[[1, 3, 6], [4, 0, 2], [7, 5, 8]], 136420758, [1, 1], 6, 136402758, 'Left'], [[[2, 4, 3], [1, 0, 6], [7, 5, 8]], 203146758, [1, 1], 6, 243106758, 'Down'], [[[2, 3, 0], [1, 4, 6], [7, 5, 8]], 203146758, [0, 2], 6, 230146758, 'Right'], [[[1, 2, 3], [7, 0, 6], [5, 4, 8]], 123746508, [1, 1], 6, 123706548, 'Up'], [[[1, 2, 3], [7, 4, 6], [5, 8, 0]], 123746508, [2, 2], 6, 123746580, 'Right'], [[[1, 6, 2], [4, 0, 3], [7, 5, 8]], 102463758, [1, 1], 6, 162403758, 'Down'], [[[0, 1, 2], [4, 6, 3], [7, 5, 8]], 102463758, [0, 0], 6, 12463758, 'Left'], [[[1, 2, 3], [4, 0, 8], [7, 6, 5]], 123468705, [1, 1], 6, 123408765, 'Up'], [[[1, 2, 3], [4, 6, 8], [0, 7, 5]], 123468705, [2, 0], 6, 123468075, 'Left'], [[[2, 5, 3], [1, 0, 6], [4, 7, 8]], 203156478, [1, 1], 6, 253106478, 'Down'], [[[2, 3, 0], [1, 5, 6], [4, 7, 8]], 203156478, [0, 2], 6, 230156478, 'Right'], [[[0, 1, 3], [5, 2, 6], [4, 7, 8]], 103526478, [0, 0], 6, 13526478, 'Left'], [[[1, 3, 0], [5, 2, 6], [4, 7, 8]], 103526478, [0, 2], 6, 130526478, 'Right'], [[[1, 2, 3], [5, 7, 6], [0, 4, 8]], 123576408, [2, 0], 6, 123576048, 'Left'], [[[1, 2, 3], [5, 7, 6], [4, 8, 0]], 123576408, [2, 2], 6, 123576480, 'Right'], [[[1, 2, 0], [5, 6, 3], [4, 7, 8]], 123560478, [0, 2], 6, 120563478, 'Up'], [[[1, 2, 3], [5, 6, 8], [4, 7, 0]], 123560478, [2, 2], 6, 123568470, 'Down']], [[[[1, 5, 2], [0, 8, 3], [4, 7, 6]], 152483076, [1, 0], 7, 152083476, 'Up'], [[[1, 5, 2], [4, 8, 0], [7, 6, 3]], 152483760, [1, 2], 7, 152480763, 'Up'], [[[5, 0, 2], [1, 4, 3], [7, 8, 6]], 52143786, [0, 1], 7, 502143786, 'Right'], [[[1, 5, 2], [7, 4, 3], [8, 0, 6]], 152743086, [2, 1], 7, 152743806, 'Right'], [[[1, 0, 5], [4, 3, 2], [7, 8, 6]], 150432786, [0, 1], 7, 105432786, 'Left'], [[[1, 5, 2], [4, 3, 6], [7, 0, 8]], 152436780, [2, 1], 7, 152436708, 'Left'], [[[4, 1, 2], [7, 5, 3], [8, 0, 6]], 412753086, [2, 1], 7, 412753806, 'Right'], [[[4, 0, 2], [5, 1, 3], [7, 8, 6]], 412503786, [0, 1], 7, 402513786, 'Up'], [[[4, 1, 2], [5, 8, 3], [7, 0, 6]], 412503786, [2, 1], 7, 412583706, 'Down'], [[[4, 1, 2], [5, 3, 0], [7, 8, 6]], 412503786, [1, 2], 7, 412530786, 'Right'], [[[4, 1, 3], [7, 2, 5], [8, 0, 6]], 413725086, [2, 1], 7, 413725806, 'Right'], [[[4, 0, 3], [2, 1, 5], [7, 8, 6]], 413205786, [0, 1], 7, 403215786, 'Up'], [[[4, 1, 3], [2, 8, 5], [7, 0, 6]], 413205786, [2, 1], 7, 413285706, 'Down'], [[[4, 1, 3], [2, 5, 0], [7, 8, 6]], 413205786, [1, 2], 7, 413250786, 'Right'], [[[1, 3, 5], [4, 2, 6], [7, 0, 8]], 135426780, [2, 1], 7, 135426708, 'Left'], [[[1, 0, 5], [4, 3, 2], [7, 8, 6]], 135402786, [0, 1], 7, 105432786, 'Up'], [[[1, 3, 5], [4, 8, 2], [7, 0, 6]], 135402786, [2, 1], 7, 135482706, 'Down'], [[[1, 3, 5], [0, 4, 2], [7, 8, 6]], 135402786, [1, 0], 7, 135042786, 'Left'], [[[2, 0, 3], [1, 8, 5], [4, 7, 6]], 23185476, [0, 1], 7, 203185476, 'Right'], [[[1, 0, 3], [8, 2, 5], [4, 7, 6]], 123805476, [0, 1], 7, 103825476, 'Up'], [[[1, 2, 3], [8, 7, 5], [4, 0, 6]], 123805476, [2, 1], 7, 123875406, 'Down'], [[[1, 2, 3], [8, 5, 0], [4, 7, 6]], 123805476, [1, 2], 7, 123850476, 'Right'], [[[1, 0, 2], [4, 8, 3], [7, 6, 5]], 120483765, [0, 1], 7, 102483765, 'Left'], [[[1, 0, 3], [4, 2, 8], [7, 6, 5]], 123408765, [0, 1], 7, 103428765, 'Up'], [[[1, 2, 3], [4, 6, 8], [7, 0, 5]], 123408765, [2, 1], 7, 123468705, 'Down'], [[[1, 2, 3], [0, 4, 8], [7, 6, 5]], 123408765, [1, 0], 7, 123048765, 'Left'], [[[2, 4, 3], [1, 8, 5], [7, 0, 6]], 243105786, [2, 1], 7, 243185706, 'Down'], [[[2, 4, 3], [0, 1, 5], [7, 8, 6]], 243105786, [1, 0], 7, 243015786, 'Left'], [[[2, 4, 3], [1, 5, 0], [7, 8, 6]], 243105786, [1, 2], 7, 243150786, 'Right'], [[[2, 3, 5], [1, 4, 0], [7, 8, 6]], 230145786, [1, 2], 7, 235140786, 'Down'], [[[1, 0, 3], [7, 2, 5], [8, 4, 6]], 123705846, [0, 1], 7, 103725846, 'Up'], [[[1, 2, 3], [0, 7, 5], [8, 4, 6]], 123705846, [1, 0], 7, 123075846, 'Left'], [[[1, 2, 3], [7, 5, 0], [8, 4, 6]], 123705846, [1, 2], 7, 123750846, 'Right'], [[[1, 2, 3], [7, 4, 0], [8, 6, 5]], 123745860, [1, 2], 7, 123740865, 'Up'], [[[4, 1, 3], [7, 2, 6], [5, 0, 8]], 413726058, [2, 1], 7, 413726508, 'Right'], [[[4, 0, 3], [2, 1, 6], [7, 5, 8]], 413206758, [0, 1], 7, 403216758, 'Up'], [[[4, 1, 3], [2, 5, 6], [7, 0, 8]], 413206758, [2, 1], 7, 413256708, 'Down'], [[[4, 1, 3], [2, 6, 0], [7, 5, 8]], 413206758, [1, 2], 7, 413260758, 'Right'], [[[1, 3, 6], [4, 2, 8], [7, 0, 5]], 136428750, [2, 1], 7, 136428705, 'Left'], [[[1, 0, 6], [4, 3, 2], [7, 5, 8]], 136402758, [0, 1], 7, 106432758, 'Up'], [[[1, 3, 6], [4, 5, 2], [7, 0, 8]], 136402758, [2, 1], 7, 136452708, 'Down'], [[[1, 3, 6], [0, 4, 2], [7, 5, 8]], 136402758, [1, 0], 7, 136042758, 'Left'], [[[2, 4, 3], [1, 5, 6], [7, 0, 8]], 243106758, [2, 1], 7, 243156708, 'Down'], [[[2, 4, 3], [0, 1, 6], [7, 5, 8]], 243106758, [1, 0], 7, 243016758, 'Left'], [[[2, 4, 3], [1, 6, 0], [7, 5, 8]], 243106758, [1, 2], 7, 243160758, 'Right'], [[[2, 3, 6], [1, 4, 0], [7, 5, 8]], 230146758, [1, 2], 7, 236140758, 'Down'], [[[1, 0, 3], [7, 2, 6], [5, 4, 8]], 123706548, [0, 1], 7, 103726548, 'Up'], [[[1, 2, 3], [0, 7, 6], [5, 4, 8]], 123706548, [1, 0], 7, 123076548, 'Left'], [[[1, 2, 3], [7, 6, 0], [5, 4, 8]], 123706548, [1, 2], 7, 123760548, 'Right'], [[[1, 2, 3], [7, 4, 0], [5, 8, 6]], 123746580, [1, 2], 7, 123740586, 'Up'], [[[1, 6, 2], [4, 5, 3], [7, 0, 8]], 162403758, [2, 1], 7, 162453708, 'Down'], [[[1, 6, 2], [0, 4, 3], [7, 5, 8]], 162403758, [1, 0], 7, 162043758, 'Left'], [[[1, 6, 2], [4, 3, 0], [7, 5, 8]], 162403758, [1, 2], 7, 162430758, 'Right'], [[[4, 1, 2], [0, 6, 3], [7, 5, 8]], 12463758, [1, 0], 7, 412063758, 'Down'], [[[1, 0, 3], [4, 2, 8], [7, 6, 5]], 123408765, [0, 1], 7, 103428765, 'Up'], [[[1, 2, 3], [0, 4, 8], [7, 6, 5]], 123408765, [1, 0], 7, 123048765, 'Left'], [[[1, 2, 3], [4, 8, 0], [7, 6, 5]], 123408765, [1, 2], 7, 123480765, 'Right'], [[[1, 2, 3], [0, 6, 8], [4, 7, 5]], 123468075, [1, 0], 7, 123068475, 'Up'], [[[2, 5, 3], [1, 7, 6], [4, 0, 8]], 253106478, [2, 1], 7, 253176408, 'Down'], [[[2, 5, 3], [0, 1, 6], [4, 7, 8]], 253106478, [1, 0], 7, 253016478, 'Left'], [[[2, 5, 3], [1, 6, 0], [4, 7, 8]], 253106478, [1, 2], 7, 253160478, 'Right'], [[[2, 3, 6], [1, 5, 0], [4, 7, 8]], 230156478, [1, 2], 7, 236150478, 'Down'], [[[5, 1, 3], [0, 2, 6], [4, 7, 8]], 13526478, [1, 0], 7, 513026478, 'Down'], [[[1, 3, 6], [5, 2, 0], [4, 7, 8]], 130526478, [1, 2], 7, 136520478, 'Down'], [[[1, 2, 3], [0, 7, 6], [5, 4, 8]], 123576048, [1, 0], 7, 123076548, 'Up'], [[[1, 2, 3], [5, 7, 0], [4, 8, 6]], 123576480, [1, 2], 7, 123570486, 'Up'], [[[1, 0, 2], [5, 6, 3], [4, 7, 8]], 120563478, [0, 1], 7, 102563478, 'Left'], [[[1, 2, 3], [5, 6, 8], [4, 0, 7]], 123568470, [2, 1], 7, 123568407, 'Left']], [[[[0, 5, 2], [1, 8, 3], [4, 7, 6]], 152083476, [0, 0], 8, 52183476, 'Up'], [[[1, 5, 2], [8, 0, 3], [4, 7, 6]], 152083476, [1, 1], 8, 152803476, 'Right'], [[[1, 5, 0], [4, 8, 2], [7, 6, 3]], 152480763, [0, 2], 8, 150482763, 'Up'], [[[1, 5, 2], [4, 0, 8], [7, 6, 3]], 152480763, [1, 1], 8, 152408763, 'Left'], [[[5, 4, 2], [1, 0, 3], [7, 8, 6]], 502143786, [1, 1], 8, 542103786, 'Down'], [[[5, 2, 0], [1, 4, 3], [7, 8, 6]], 502143786, [0, 2], 8, 520143786, 'Right'], [[[1, 5, 2], [7, 0, 3], [8, 4, 6]], 152743806, [1, 1], 8, 152703846, 'Up'], [[[1, 5, 2], [7, 4, 3], [8, 6, 0]], 152743806, [2, 2], 8, 152743860, 'Right'], [[[1, 3, 5], [4, 0, 2], [7, 8, 6]], 105432786, [1, 1], 8, 135402786, 'Down'], [[[0, 1, 5], [4, 3, 2], [7, 8, 6]], 105432786, [0, 0], 8, 15432786, 'Left'], [[[1, 5, 2], [4, 0, 6], [7, 3, 8]], 152436708, [1, 1], 8, 152406738, 'Up'], [[[1, 5, 2], [4, 3, 6], [0, 7, 8]], 152436708, [2, 0], 8, 152436078, 'Left'], [[[4, 1, 2], [7, 0, 3], [8, 5, 6]], 412753806, [1, 1], 8, 412703856, 'Up'], [[[4, 1, 2], [7, 5, 3], [8, 6, 0]], 412753806, [2, 2], 8, 412753860, 'Right'], [[[0, 4, 2], [5, 1, 3], [7, 8, 6]], 402513786, [0, 0], 8, 42513786, 'Left'], [[[4, 2, 0], [5, 1, 3], [7, 8, 6]], 402513786, [0, 2], 8, 420513786, 'Right'], [[[4, 1, 2], [5, 8, 3], [0, 7, 6]], 412583706, [2, 0], 8, 412583076, 'Left'], [[[4, 1, 2], [5, 8, 3], [7, 6, 0]], 412583706, [2, 2], 8, 412583760, 'Right'], [[[4, 1, 0], [5, 3, 2], [7, 8, 6]], 412530786, [0, 2], 8, 410532786, 'Up'], [[[4, 1, 2], [5, 3, 6], [7, 8, 0]], 412530786, [2, 2], 8, 412536780, 'Down'], [[[4, 1, 3], [7, 0, 5], [8, 2, 6]], 413725806, [1, 1], 8, 413705826, 'Up'], [[[4, 1, 3], [7, 2, 5], [8, 6, 0]], 413725806, [2, 2], 8, 413725860, 'Right'], [[[0, 4, 3], [2, 1, 5], [7, 8, 6]], 403215786, [0, 0], 8, 43215786, 'Left'], [[[4, 3, 0], [2, 1, 5], [7, 8, 6]], 403215786, [0, 2], 8, 430215786, 'Right'], [[[4, 1, 3], [2, 8, 5], [0, 7, 6]], 413285706, [2, 0], 8, 413285076, 'Left'], [[[4, 1, 3], [2, 8, 5], [7, 6, 0]], 413285706, [2, 2], 8, 413285760, 'Right'], [[[4, 1, 0], [2, 5, 3], [7, 8, 6]], 413250786, [0, 2], 8, 410253786, 'Up'], [[[4, 1, 3], [2, 5, 6], [7, 8, 0]], 413250786, [2, 2], 8, 413256780, 'Down'], [[[1, 3, 5], [4, 0, 6], [7, 2, 8]], 135426708, [1, 1], 8, 135406728, 'Up'], [[[1, 3, 5], [4, 2, 6], [0, 7, 8]], 135426708, [2, 0], 8, 135426078, 'Left'], [[[0, 1, 5], [4, 3, 2], [7, 8, 6]], 105432786, [0, 0], 8, 15432786, 'Left'], [[[1, 5, 0], [4, 3, 2], [7, 8, 6]], 105432786, [0, 2], 8, 150432786, 'Right'], [[[1, 3, 5], [4, 8, 2], [0, 7, 6]], 135482706, [2, 0], 8, 135482076, 'Left'], [[[1, 3, 5], [4, 8, 2], [7, 6, 0]], 135482706, [2, 2], 8, 135482760, 'Right'], [[[0, 3, 5], [1, 4, 2], [7, 8, 6]], 135042786, [0, 0], 8, 35142786, 'Up'], [[[1, 3, 5], [7, 4, 2], [0, 8, 6]], 135042786, [2, 0], 8, 135742086, 'Down'], [[[2, 8, 3], [1, 0, 5], [4, 7, 6]], 203185476, [1, 1], 8, 283105476, 'Down'], [[[2, 3, 0], [1, 8, 5], [4, 7, 6]], 203185476, [0, 2], 8, 230185476, 'Right'], [[[0, 1, 3], [8, 2, 5], [4, 7, 6]], 103825476, [0, 0], 8, 13825476, 'Left'], [[[1, 3, 0], [8, 2, 5], [4, 7, 6]], 103825476, [0, 2], 8, 130825476, 'Right'], [[[1, 2, 3], [8, 7, 5], [0, 4, 6]], 123875406, [2, 0], 8, 123875046, 'Left'], [[[1, 2, 3], [8, 7, 5], [4, 6, 0]], 123875406, [2, 2], 8, 123875460, 'Right'], [[[1, 2, 0], [8, 5, 3], [4, 7, 6]], 123850476, [0, 2], 8, 120853476, 'Up'], [[[1, 2, 3], [8, 5, 6], [4, 7, 0]], 123850476, [2, 2], 8, 123856470, 'Down'], [[[1, 8, 2], [4, 0, 3], [7, 6, 5]], 102483765, [1, 1], 8, 182403765, 'Down'], [[[0, 1, 2], [4, 8, 3], [7, 6, 5]], 102483765, [0, 0], 8, 12483765, 'Left'], [[[0, 1, 3], [4, 2, 8], [7, 6, 5]], 103428765, [0, 0], 8, 13428765, 'Left'], [[[1, 3, 0], [4, 2, 8], [7, 6, 5]], 103428765, [0, 2], 8, 130428765, 'Right'], [[[1, 2, 3], [4, 6, 8], [0, 7, 5]], 123468705, [2, 0], 8, 123468075, 'Left'], [[[1, 2, 3], [4, 6, 8], [7, 5, 0]], 123468705, [2, 2], 8, 123468750, 'Right'], [[[0, 2, 3], [1, 4, 8], [7, 6, 5]], 123048765, [0, 0], 8, 23148765, 'Up'], [[[1, 2, 3], [7, 4, 8], [0, 6, 5]], 123048765, [2, 0], 8, 123748065, 'Down'], [[[2, 4, 3], [1, 8, 5], [0, 7, 6]], 243185706, [2, 0], 8, 243185076, 'Left'], [[[2, 4, 3], [1, 8, 5], [7, 6, 0]], 243185706, [2, 2], 8, 243185760, 'Right'], [[[0, 4, 3], [2, 1, 5], [7, 8, 6]], 243015786, [0, 0], 8, 43215786, 'Up'], [[[2, 4, 3], [7, 1, 5], [0, 8, 6]], 243015786, [2, 0], 8, 243715086, 'Down'], [[[2, 4, 0], [1, 5, 3], [7, 8, 6]], 243150786, [0, 2], 8, 240153786, 'Up'], [[[2, 4, 3], [1, 5, 6], [7, 8, 0]], 243150786, [2, 2], 8, 243156780, 'Down'], [[[2, 3, 5], [1, 4, 6], [7, 8, 0]], 235140786, [2, 2], 8, 235146780, 'Down'], [[[2, 3, 5], [1, 0, 4], [7, 8, 6]], 235140786, [1, 1], 8, 235104786, 'Left'], [[[0, 1, 3], [7, 2, 5], [8, 4, 6]], 103725846, [0, 0], 8, 13725846, 'Left'], [[[1, 3, 0], [7, 2, 5], [8, 4, 6]], 103725846, [0, 2], 8, 130725846, 'Right'], [[[0, 2, 3], [1, 7, 5], [8, 4, 6]], 123075846, [0, 0], 8, 23175846, 'Up'], [[[1, 2, 3], [8, 7, 5], [0, 4, 6]], 123075846, [2, 0], 8, 123875046, 'Down'], [[[1, 2, 0], [7, 5, 3], [8, 4, 6]], 123750846, [0, 2], 8, 120753846, 'Up'], [[[1, 2, 3], [7, 5, 6], [8, 4, 0]], 123750846, [2, 2], 8, 123756840, 'Down'], [[[1, 2, 0], [7, 4, 3], [8, 6, 5]], 123740865, [0, 2], 8, 120743865, 'Up'], [[[1, 2, 3], [7, 0, 4], [8, 6, 5]], 123740865, [1, 1], 8, 123704865, 'Left'], [[[4, 1, 3], [7, 0, 6], [5, 2, 8]], 413726508, [1, 1], 8, 413706528, 'Up'], [[[4, 1, 3], [7, 2, 6], [5, 8, 0]], 413726508, [2, 2], 8, 413726580, 'Right'], [[[0, 4, 3], [2, 1, 6], [7, 5, 8]], 403216758, [0, 0], 8, 43216758, 'Left'], [[[4, 3, 0], [2, 1, 6], [7, 5, 8]], 403216758, [0, 2], 8, 430216758, 'Right'], [[[4, 1, 3], [2, 5, 6], [0, 7, 8]], 413256708, [2, 0], 8, 413256078, 'Left'], [[[4, 1, 3], [2, 5, 6], [7, 8, 0]], 413256708, [2, 2], 8, 413256780, 'Right'], [[[4, 1, 0], [2, 6, 3], [7, 5, 8]], 413260758, [0, 2], 8, 410263758, 'Up'], [[[4, 1, 3], [2, 6, 8], [7, 5, 0]], 413260758, [2, 2], 8, 413268750, 'Down'], [[[1, 3, 6], [4, 0, 8], [7, 2, 5]], 136428705, [1, 1], 8, 136408725, 'Up'], [[[1, 3, 6], [4, 2, 8], [0, 7, 5]], 136428705, [2, 0], 8, 136428075, 'Left'], [[[0, 1, 6], [4, 3, 2], [7, 5, 8]], 106432758, [0, 0], 8, 16432758, 'Left'], [[[1, 6, 0], [4, 3, 2], [7, 5, 8]], 106432758, [0, 2], 8, 160432758, 'Right'], [[[1, 3, 6], [4, 5, 2], [0, 7, 8]], 136452708, [2, 0], 8, 136452078, 'Left'], [[[1, 3, 6], [4, 5, 2], [7, 8, 0]], 136452708, [2, 2], 8, 136452780, 'Right'], [[[0, 3, 6], [1, 4, 2], [7, 5, 8]], 136042758, [0, 0], 8, 36142758, 'Up'], [[[1, 3, 6], [7, 4, 2], [0, 5, 8]], 136042758, [2, 0], 8, 136742058, 'Down'], [[[2, 4, 3], [1, 5, 6], [0, 7, 8]], 243156708, [2, 0], 8, 243156078, 'Left'], [[[2, 4, 3], [1, 5, 6], [7, 8, 0]], 243156708, [2, 2], 8, 243156780, 'Right'], [[[0, 4, 3], [2, 1, 6], [7, 5, 8]], 243016758, [0, 0], 8, 43216758, 'Up'], [[[2, 4, 3], [7, 1, 6], [0, 5, 8]], 243016758, [2, 0], 8, 243716058, 'Down'], [[[2, 4, 0], [1, 6, 3], [7, 5, 8]], 243160758, [0, 2], 8, 240163758, 'Up'], [[[2, 4, 3], [1, 6, 8], [7, 5, 0]], 243160758, [2, 2], 8, 243168750, 'Down'], [[[2, 3, 6], [1, 4, 8], [7, 5, 0]], 236140758, [2, 2], 8, 236148750, 'Down'], [[[2, 3, 6], [1, 0, 4], [7, 5, 8]], 236140758, [1, 1], 8, 236104758, 'Left'], [[[0, 1, 3], [7, 2, 6], [5, 4, 8]], 103726548, [0, 0], 8, 13726548, 'Left'], [[[1, 3, 0], [7, 2, 6], [5, 4, 8]], 103726548, [0, 2], 8, 130726548, 'Right'], [[[0, 2, 3], [1, 7, 6], [5, 4, 8]], 123076548, [0, 0], 8, 23176548, 'Up'], [[[1, 2, 3], [5, 7, 6], [0, 4, 8]], 123076548, [2, 0], 8, 123576048, 'Down'], [[[1, 2, 0], [7, 6, 3], [5, 4, 8]], 123760548, [0, 2], 8, 120763548, 'Up'], [[[1, 2, 3], [7, 6, 8], [5, 4, 0]], 123760548, [2, 2], 8, 123768540, 'Down'], [[[1, 2, 0], [7, 4, 3], [5, 8, 6]], 123740586, [0, 2], 8, 120743586, 'Up'], [[[1, 2, 3], [7, 0, 4], [5, 8, 6]], 123740586, [1, 1], 8, 123704586, 'Left'], [[[1, 6, 2], [4, 5, 3], [0, 7, 8]], 162453708, [2, 0], 8, 162453078, 'Left'], [[[1, 6, 2], [4, 5, 3], [7, 8, 0]], 162453708, [2, 2], 8, 162453780, 'Right'], [[[0, 6, 2], [1, 4, 3], [7, 5, 8]], 162043758, [0, 0], 8, 62143758, 'Up'], [[[1, 6, 2], [7, 4, 3], [0, 5, 8]], 162043758, [2, 0], 8, 162743058, 'Down'], [[[1, 6, 0], [4, 3, 2], [7, 5, 8]], 162430758, [0, 2], 8, 160432758, 'Up'], [[[1, 6, 2], [4, 3, 8], [7, 5, 0]], 162430758, [2, 2], 8, 162438750, 'Down'], [[[4, 1, 2], [7, 6, 3], [0, 5, 8]], 412063758, [2, 0], 8, 412763058, 'Down'], [[[4, 1, 2], [6, 0, 3], [7, 5, 8]], 412063758, [1, 1], 8, 412603758, 'Right'], [[[0, 1, 3], [4, 2, 8], [7, 6, 5]], 103428765, [0, 0], 8, 13428765, 'Left'], [[[1, 3, 0], [4, 2, 8], [7, 6, 5]], 103428765, [0, 2], 8, 130428765, 'Right'], [[[0, 2, 3], [1, 4, 8], [7, 6, 5]], 123048765, [0, 0], 8, 23148765, 'Up'], [[[1, 2, 3], [7, 4, 8], [0, 6, 5]], 123048765, [2, 0], 8, 123748065, 'Down'], [[[1, 2, 0], [4, 8, 3], [7, 6, 5]], 123480765, [0, 2], 8, 120483765, 'Up'], [[[1, 2, 3], [4, 8, 5], [7, 6, 0]], 123480765, [2, 2], 8, 123485760, 'Down'], [[[0, 2, 3], [1, 6, 8], [4, 7, 5]], 123068475, [0, 0], 8, 23168475, 'Up'], [[[1, 2, 3], [6, 0, 8], [4, 7, 5]], 123068475, [1, 1], 8, 123608475, 'Right'], [[[2, 5, 3], [1, 7, 6], [0, 4, 8]], 253176408, [2, 0], 8, 253176048, 'Left'], [[[2, 5, 3], [1, 7, 6], [4, 8, 0]], 253176408, [2, 2], 8, 253176480, 'Right'], [[[0, 5, 3], [2, 1, 6], [4, 7, 8]], 253016478, [0, 0], 8, 53216478, 'Up'], [[[2, 5, 3], [4, 1, 6], [0, 7, 8]], 253016478, [2, 0], 8, 253416078, 'Down'], [[[2, 5, 0], [1, 6, 3], [4, 7, 8]], 253160478, [0, 2], 8, 250163478, 'Up'], [[[2, 5, 3], [1, 6, 8], [4, 7, 0]], 253160478, [2, 2], 8, 253168470, 'Down'], [[[2, 3, 6], [1, 5, 8], [4, 7, 0]], 236150478, [2, 2], 8, 236158470, 'Down'], [[[2, 3, 6], [1, 0, 5], [4, 7, 8]], 236150478, [1, 1], 8, 236105478, 'Left'], [[[5, 1, 3], [4, 2, 6], [0, 7, 8]], 513026478, [2, 0], 8, 513426078, 'Down'], [[[5, 1, 3], [2, 0, 6], [4, 7, 8]], 513026478, [1, 1], 8, 513206478, 'Right'], [[[1, 3, 6], [5, 2, 8], [4, 7, 0]], 136520478, [2, 2], 8, 136528470, 'Down'], [[[1, 3, 6], [5, 0, 2], [4, 7, 8]], 136520478, [1, 1], 8, 136502478, 'Left'], [[[0, 2, 3], [1, 7, 6], [5, 4, 8]], 123076548, [0, 0], 8, 23176548, 'Up'], [[[1, 2, 3], [7, 0, 6], [5, 4, 8]], 123076548, [1, 1], 8, 123706548, 'Right'], [[[1, 2, 0], [5, 7, 3], [4, 8, 6]], 123570486, [0, 2], 8, 120573486, 'Up'], [[[1, 2, 3], [5, 0, 7], [4, 8, 6]], 123570486, [1, 1], 8, 123507486, 'Left'], [[[1, 6, 2], [5, 0, 3], [4, 7, 8]], 102563478, [1, 1], 8, 162503478, 'Down'], [[[0, 1, 2], [5, 6, 3], [4, 7, 8]], 102563478, [0, 0], 8, 12563478, 'Left'], [[[1, 2, 3], [5, 0, 8], [4, 6, 7]], 123568407, [1, 1], 8, 123508467, 'Up'], [[[1, 2, 3], [5, 6, 8], [0, 4, 7]], 123568407, [2, 0], 8, 123568047, 'Left']]]\n"
     ]
    }
   ],
   "source": [
    "print(stateList)"
   ]
  },
  {
   "cell_type": "code",
   "execution_count": 166,
   "metadata": {},
   "outputs": [
    {
     "name": "stdout",
     "output_type": "stream",
     "text": [
      "i:  0 j: 0 stateListNum 123456780\n",
      "123568047\n"
     ]
    },
    {
     "data": {
      "text/plain": [
       "True"
      ]
     },
     "execution_count": 166,
     "metadata": {},
     "output_type": "execute_result"
    }
   ],
   "source": [
    "checkNewState(newState, stateList)"
   ]
  }
 ],
 "metadata": {
  "kernelspec": {
   "display_name": "Python 3",
   "language": "python",
   "name": "python3"
  },
  "language_info": {
   "codemirror_mode": {
    "name": "ipython",
    "version": 3
   },
   "file_extension": ".py",
   "mimetype": "text/x-python",
   "name": "python",
   "nbconvert_exporter": "python",
   "pygments_lexer": "ipython3",
   "version": "3.7.4"
  }
 },
 "nbformat": 4,
 "nbformat_minor": 2
}
